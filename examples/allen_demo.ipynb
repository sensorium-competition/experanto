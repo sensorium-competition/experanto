{
 "cells": [
  {
   "cell_type": "markdown",
   "id": "5dc8ad24",
   "metadata": {},
   "source": [
    "### Showcase of interpolation on Experiment level for encoded videos and images in greyscale and RGB."
   ]
  },
  {
   "cell_type": "code",
   "execution_count": null,
   "id": "e4aecde6",
   "metadata": {},
   "outputs": [],
   "source": [
    "# import dependencies\n",
    "\n",
    "%load_ext autoreload\n",
    "%autoreload 2\n",
    "%matplotlib inline\n",
    "\n",
    "import numpy as np\n",
    "import matplotlib.pyplot as plt\n",
    "import matplotlib.animation as animation\n",
    "from IPython.display import HTML"
   ]
  },
  {
   "cell_type": "code",
   "execution_count": null,
   "id": "9bc17dbb",
   "metadata": {},
   "outputs": [],
   "source": [
    "# get the experiment class from experanto \n",
    "from experanto.experiment import Experiment\n",
    "\n",
    "# set experiment folder as root\n",
    "root_folder = '../../allen-exporter/data/allen_data/experiment_951980471'\n",
    "\n",
    "# initialize experiment object\n",
    "e = Experiment(root_folder)"
   ]
  },
  {
   "cell_type": "code",
   "execution_count": null,
   "id": "2447e233",
   "metadata": {},
   "outputs": [],
   "source": [
    "times = np.arange(310., 340., 0.5)\n",
    "video = e.interpolate(times, device=\"screen\")  # shape: (T, C, H, W)\n",
    "\n",
    "# Clip and convert to uint8 to avoid matplotlib clipping warnings\n",
    "video = np.clip(video, 0, 255).astype(np.uint8)\n",
    "video = video.transpose(0, 2, 3, 1)  # (T, H, W, C)\n",
    "\n",
    "n_frames, height, width, channels = video.shape\n",
    "print(f\"Video shape: {video.shape}\")\n",
    "\n",
    "# Handle grayscale vs color\n",
    "is_grayscale = (channels == 1)\n",
    "if is_grayscale:\n",
    "    video = video[..., 0]  # Now shape: (T, H, W)\n",
    "\n",
    "fig, ax = plt.subplots()\n",
    "\n",
    "# Initialize with appropriate cmap\n",
    "if is_grayscale:\n",
    "    img = ax.imshow(video[0], cmap='gray', vmin=0, vmax=255)\n",
    "else:\n",
    "    img = ax.imshow(video[0])\n",
    "\n",
    "ax.axis('off')\n",
    "\n",
    "def update(frame):\n",
    "    img.set_array(video[frame])\n",
    "    ax.set_title(f'Frame {frame}')\n",
    "    return [img]\n",
    "\n",
    "ani = animation.FuncAnimation(fig, update, frames=n_frames, interval=50, blit=True)\n",
    "\n",
    "plt.close(fig)\n",
    "HTML(ani.to_jshtml())"
   ]
  },
  {
   "cell_type": "code",
   "execution_count": null,
   "id": "129ae368",
   "metadata": {},
   "outputs": [],
   "source": [
    "%%timeit\n",
    "video = e.interpolate(times, device=\"screen\")"
   ]
  },
  {
   "cell_type": "code",
   "execution_count": null,
   "id": "d58eaaeb",
   "metadata": {},
   "outputs": [],
   "source": [
    "times = np.arange(4484., 4500., 0.5)\n",
    "video = e.interpolate(times, device=\"screen\")  # shape: (T, C, H, W)\n",
    "\n",
    "# Clip and convert to uint8 to avoid matplotlib clipping warnings\n",
    "video = np.clip(video, 0, 255).astype(np.uint8)\n",
    "video = video.transpose(0, 2, 3, 1)  # (T, H, W, C)\n",
    "\n",
    "n_frames, height, width, channels = video.shape\n",
    "print(f\"Video shape: {video.shape}\")\n",
    "\n",
    "# Handle grayscale vs color\n",
    "is_grayscale = (channels == 1)\n",
    "if is_grayscale:\n",
    "    video = video[..., 0]  # Now shape: (T, H, W)\n",
    "\n",
    "fig, ax = plt.subplots()\n",
    "\n",
    "# Initialize with appropriate cmap\n",
    "if is_grayscale:\n",
    "    img = ax.imshow(video[0], cmap='gray', vmin=0, vmax=255)\n",
    "else:\n",
    "    img = ax.imshow(video[0])\n",
    "\n",
    "ax.axis('off')\n",
    "\n",
    "def update(frame):\n",
    "    img.set_array(video[frame])\n",
    "    ax.set_title(f'Frame {frame}')\n",
    "    return [img]\n",
    "\n",
    "ani = animation.FuncAnimation(fig, update, frames=n_frames, interval=50, blit=True)\n",
    "\n",
    "plt.close(fig)\n",
    "HTML(ani.to_jshtml())"
   ]
  },
  {
   "cell_type": "code",
   "execution_count": null,
   "id": "9a74eb40",
   "metadata": {},
   "outputs": [],
   "source": [
    "%%timeit\n",
    "video = e.interpolate(times, device=\"screen\")"
   ]
  },
  {
   "cell_type": "code",
   "execution_count": null,
   "id": "ba9c51eb",
   "metadata": {},
   "outputs": [],
   "source": [
    "# Download a test_rgb_image.jpg (1200x1900!) put it into the folder with other stimuli and run this to test rgb interpolation in the third cell.\n",
    "# My test image : https://wallpapercave.com/download/1900x1200-wallpapers-wp9725873\n",
    "# Also adjust number_channels to 3 inside the default.yaml config file\n",
    "\n",
    "import cv2\n",
    "import numpy as np\n",
    "import matplotlib.pyplot as plt\n",
    "\n",
    "# Load the JPEG image (in BGR format)\n",
    "img = cv2.imread('../../../allen-exporter/data/allen_data/experiment_951980471/stimuli/test_rgb_image.jpg')\n",
    "\n",
    "# Optional: convert from BGR to RGB if you want\n",
    "img_rgb = cv2.cvtColor(img, cv2.COLOR_BGR2RGB)\n",
    "\n",
    "# Plot the image\n",
    "plt.imshow(img_rgb)\n",
    "plt.axis('off')  # hide axes\n",
    "plt.show()\n",
    "\n",
    "# Save the image as a .npy file\n",
    "np.save('../../../allen-exporter/data/allen_data/experiment_951980471/stimuli/im065.npy', img_rgb)\n"
   ]
  },
  {
   "cell_type": "code",
   "execution_count": null,
   "id": "2c52e9e3",
   "metadata": {},
   "outputs": [],
   "source": []
  }
 ],
 "metadata": {
  "kernelspec": {
   "display_name": "experanto",
   "language": "python",
   "name": "python3"
  },
  "language_info": {
   "codemirror_mode": {
    "name": "ipython",
    "version": 3
   },
   "file_extension": ".py",
   "mimetype": "text/x-python",
   "name": "python",
   "nbconvert_exporter": "python",
   "pygments_lexer": "ipython3",
   "version": "3.12.8"
  }
 },
 "nbformat": 4,
 "nbformat_minor": 5
}
