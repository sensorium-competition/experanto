{
 "cells": [
  {
   "cell_type": "code",
   "execution_count": 3,
   "id": "92a1d7e2-55c6-4186-8a5a-34938617626c",
   "metadata": {},
   "outputs": [
    {
     "name": "stdout",
     "output_type": "stream",
     "text": [
      "The autoreload extension is already loaded. To reload it, use:\n",
      "  %reload_ext autoreload\n"
     ]
    }
   ],
   "source": [
    "# import dependencies\n",
    "\n",
    "%load_ext autoreload\n",
    "%autoreload 2\n",
    "%matplotlib inline\n",
    "\n",
    "import numpy as np\n",
    "import matplotlib.pyplot as plt\n",
    "import matplotlib.animation as animation\n",
    "from IPython.display import HTML"
   ]
  },
  {
   "cell_type": "code",
   "execution_count": 4,
   "id": "24c90efd-0b48-4f97-94f3-52df09268821",
   "metadata": {},
   "outputs": [],
   "source": [
    "# get the experiment class from experanto \n",
    "from experanto.experiment import Experiment\n",
    "\n",
    "# set experiment folder as root\n",
    "root_folder = '../data/allen_data/experiment_951980471'\n",
    "\n",
    "# initialize experiment object\n",
    "e = Experiment(root_folder)"
   ]
  },
  {
   "cell_type": "code",
   "execution_count": 5,
   "id": "7426d70a-f6b6-4625-a80a-39ce475a2f68",
   "metadata": {},
   "outputs": [
    {
     "data": {
      "text/plain": [
       "dict_keys(['eye_tracker', 'screen', 'treadmill', 'responses'])"
      ]
     },
     "execution_count": 5,
     "metadata": {},
     "output_type": "execute_result"
    }
   ],
   "source": [
    "e.devices.keys()"
   ]
  },
  {
   "cell_type": "code",
   "execution_count": null,
   "id": "3515b72a-ded1-4cb9-bd42-c0e47e5127d7",
   "metadata": {},
   "outputs": [],
   "source": [
    "# sample a passage of the video\n",
    "times = np.arange(4300., 4320., 0.5)\n",
    "time_steps = len(times)\n",
    "\n",
    "# returns the frames as torch array with (C, T, H, W)\n",
    "video, valid = e.interpolate(times, device=\"screen\")\n",
    "\n",
    "# plot the interpolated sample\n",
    "video_np = video.numpy().astype(int)\n",
    "channels, n_frames, height, width = video_np.shape\n",
    "video_np = np.transpose(video_np, (1, 2, 3, 0))\n",
    "\n",
    "fig, ax = plt.subplots()\n",
    "img = ax.imshow(video_np[0], cmap='gray', vmin=0, vmax=255)\n",
    "\n",
    "def update(frame):\n",
    "    img.set_array(video_np[frame])\n",
    "    ax.set_title(f'Time step: {frame}')\n",
    "    return [img]\n",
    "\n",
    "ani = animation.FuncAnimation(fig, update, frames=n_frames, interval=50, blit=True)\n",
    "\n",
    "plt.close(fig)\n",
    "HTML(ani.to_jshtml())"
   ]
  },
  {
   "cell_type": "code",
   "execution_count": null,
   "id": "897a28d9-cfb6-44c3-83c2-80bd39c51b22",
   "metadata": {},
   "outputs": [],
   "source": []
  }
 ],
 "metadata": {
  "kernelspec": {
   "display_name": "Python 3 (ipykernel)",
   "language": "python",
   "name": "python3"
  },
  "language_info": {
   "codemirror_mode": {
    "name": "ipython",
    "version": 3
   },
   "file_extension": ".py",
   "mimetype": "text/x-python",
   "name": "python",
   "nbconvert_exporter": "python",
   "pygments_lexer": "ipython3",
   "version": "3.9.21"
  }
 },
 "nbformat": 4,
 "nbformat_minor": 5
}
